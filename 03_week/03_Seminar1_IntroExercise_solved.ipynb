{
 "cells": [
  {
   "cell_type": "markdown",
   "metadata": {},
   "source": [
    "# Seminar to Basics: Exercises\n",
    "\n",
    "October 14, 2024"
   ]
  },
  {
   "cell_type": "markdown",
   "metadata": {},
   "source": [
    "## Recap and Introduction"
   ]
  },
  {
   "cell_type": "markdown",
   "metadata": {},
   "source": [
    "### HW: Deadline shifted to Oct 15, 2024 (tomorrow)"
   ]
  },
  {
   "cell_type": "markdown",
   "metadata": {},
   "source": [
    "### Questions to the lectures 1, 2, or course?"
   ]
  },
  {
   "cell_type": "markdown",
   "metadata": {},
   "source": [
    "### Jupyter notebooks (again)\n",
    "\n",
    "- Files with cells\n",
    "  - Code - python (in our case; `1+1`)\n",
    "  - Markdown (comments and text, also math (LaTeX, for example $\\sum_i a_i$))\n",
    "- You can open them in:\n",
    "  - Jupyter notebooks (e.g. Ananconda (Win/mac))\n",
    "  - Jupyter Lab (e.g. Anaconda (Win/mac))\n",
    "  - VScode\n",
    "  - others"
   ]
  },
  {
   "cell_type": "code",
   "execution_count": null,
   "metadata": {},
   "outputs": [],
   "source": []
  },
  {
   "cell_type": "markdown",
   "metadata": {},
   "source": [
    "### Recap: help\n",
    "\n",
    "- google, stackoverflow, peers, friends..."
   ]
  },
  {
   "cell_type": "code",
   "execution_count": 1,
   "metadata": {},
   "outputs": [
    {
     "name": "stdout",
     "output_type": "stream",
     "text": [
      "Help on built-in function len in module builtins:\n",
      "\n",
      "len(obj, /)\n",
      "    Return the number of items in a container.\n",
      "\n"
     ]
    }
   ],
   "source": [
    "# Different ways to call help\n",
    "help(len)"
   ]
  },
  {
   "cell_type": "code",
   "execution_count": 2,
   "metadata": {},
   "outputs": [
    {
     "data": {
      "text/plain": [
       "'Return the number of items in a container.'"
      ]
     },
     "execution_count": 2,
     "metadata": {},
     "output_type": "execute_result"
    }
   ],
   "source": [
    "len.__doc__ # This is the same as help(len)"
   ]
  },
  {
   "cell_type": "code",
   "execution_count": 3,
   "metadata": {},
   "outputs": [
    {
     "name": "stdout",
     "output_type": "stream",
     "text": [
      "\u001b[0;31mSignature:\u001b[0m \u001b[0mlen\u001b[0m\u001b[0;34m(\u001b[0m\u001b[0mobj\u001b[0m\u001b[0;34m,\u001b[0m \u001b[0;34m/\u001b[0m\u001b[0;34m)\u001b[0m\u001b[0;34m\u001b[0m\u001b[0;34m\u001b[0m\u001b[0m\n",
      "\u001b[0;31mDocstring:\u001b[0m Return the number of items in a container.\n",
      "\u001b[0;31mType:\u001b[0m      builtin_function_or_method"
     ]
    }
   ],
   "source": [
    "len?"
   ]
  },
  {
   "cell_type": "code",
   "execution_count": 4,
   "metadata": {},
   "outputs": [
    {
     "name": "stdout",
     "output_type": "stream",
     "text": [
      "03_Lecture_Numpy.ipynb                 \u001b[1m\u001b[36m__pycache__ (4)\u001b[m\u001b[m\n",
      "03_Seminar1_IntroExercise.ipynb        \u001b[1m\u001b[36m__pycache__ (5)\u001b[m\u001b[m\n",
      "03_Seminar1_IntroExercise_solved.ipynb \u001b[1m\u001b[36m__pycache__ (6)\u001b[m\u001b[m\n",
      "\u001b[1m\u001b[36m03_pics\u001b[m\u001b[m                                \u001b[1m\u001b[36m__pycache__ (7)\u001b[m\u001b[m\n",
      "\u001b[1m\u001b[36m__pycache__\u001b[m\u001b[m                            \u001b[1m\u001b[36m__pycache__ (8)\u001b[m\u001b[m\n",
      "\u001b[1m\u001b[36m__pycache__ (1)\u001b[m\u001b[m                        newfile.txt\n",
      "\u001b[1m\u001b[36m__pycache__ (2)\u001b[m\u001b[m                        seminarLib.py\n",
      "\u001b[1m\u001b[36m__pycache__ (3)\u001b[m\u001b[m\n"
     ]
    }
   ],
   "source": [
    "# Calling bash commands\n",
    "!ls"
   ]
  },
  {
   "cell_type": "code",
   "execution_count": 5,
   "metadata": {},
   "outputs": [],
   "source": [
    "# !pwd # different way to print working directory"
   ]
  },
  {
   "cell_type": "code",
   "execution_count": 6,
   "metadata": {},
   "outputs": [],
   "source": [
    "# %pwd # print working directory in jupyter notebook"
   ]
  },
  {
   "cell_type": "code",
   "execution_count": 8,
   "metadata": {},
   "outputs": [
    {
     "name": "stdout",
     "output_type": "stream",
     "text": [
      "03_Lecture_Numpy.ipynb                  \u001b[1m\u001b[36m03_pics\u001b[m\u001b[m/\n",
      "03_Seminar1_IntroExercise.ipynb         newfile.txt\n",
      "03_Seminar1_IntroExercise_solved.ipynb  seminarLib.py\n"
     ]
    }
   ],
   "source": [
    "%ls # list files in jupyter notebook"
   ]
  },
  {
   "cell_type": "code",
   "execution_count": null,
   "metadata": {},
   "outputs": [],
   "source": []
  },
  {
   "cell_type": "markdown",
   "metadata": {},
   "source": [
    "### Recap: file IO\n",
    "\n",
    "- We can load many thing (data - text, numbers, images, video, etc...) to our programmes."
   ]
  },
  {
   "cell_type": "code",
   "execution_count": 9,
   "metadata": {},
   "outputs": [],
   "source": [
    "# Built-in function open() is used to open a file and return a corresponding file object.\n",
    "# The open() function takes two parameters; filename, and mode.\n",
    "# There are four different methods (modes) for opening a file: \"r\", \"a\", \"w\", \"x\"\n",
    "# \"r\" - Read - Default value. Opens a file for reading, error if the file does not exist\n",
    "# \"a\" - Append - Opens a file for appending, creates the file if it does not exist\n",
    "# \"w\" - Write - Opens a file for writing, creates the file if it does not exist\n",
    "# \"x\" -  for creating and writing to a new file"
   ]
  },
  {
   "cell_type": "code",
   "execution_count": 10,
   "metadata": {},
   "outputs": [],
   "source": [
    "f = open('newfile.txt', 'w')   # Open 'newfile.txt' for writing\n",
    "f.write('Testing\\n')           # Here '\\n' means new line\n",
    "f.write('Testing again')\n",
    "f.close()"
   ]
  },
  {
   "cell_type": "code",
   "execution_count": 11,
   "metadata": {},
   "outputs": [
    {
     "name": "stdout",
     "output_type": "stream",
     "text": [
      "Testing\n",
      "Testing again\n"
     ]
    }
   ],
   "source": [
    "f = open('newfile.txt', 'r')   # Open 'newfile.txt' for reading\n",
    "print(f.read())                # Read the entire file"
   ]
  },
  {
   "cell_type": "markdown",
   "metadata": {},
   "source": [
    "#### Import packages"
   ]
  },
  {
   "cell_type": "code",
   "execution_count": 12,
   "metadata": {},
   "outputs": [],
   "source": [
    "import random"
   ]
  },
  {
   "cell_type": "markdown",
   "metadata": {},
   "source": [
    "Import own functions and modules"
   ]
  },
  {
   "cell_type": "code",
   "execution_count": 14,
   "metadata": {},
   "outputs": [],
   "source": [
    "import seminarLib"
   ]
  },
  {
   "cell_type": "code",
   "execution_count": 15,
   "metadata": {},
   "outputs": [
    {
     "ename": "NameError",
     "evalue": "name 'hellox' is not defined",
     "output_type": "error",
     "traceback": [
      "\u001b[0;31m---------------------------------------------------------------------------\u001b[0m",
      "\u001b[0;31mNameError\u001b[0m                                 Traceback (most recent call last)",
      "Cell \u001b[0;32mIn[15], line 1\u001b[0m\n\u001b[0;32m----> 1\u001b[0m \u001b[43mhellox\u001b[49m()\n",
      "\u001b[0;31mNameError\u001b[0m: name 'hellox' is not defined"
     ]
    }
   ],
   "source": [
    "hellox()"
   ]
  },
  {
   "cell_type": "code",
   "execution_count": 16,
   "metadata": {},
   "outputs": [
    {
     "name": "stdout",
     "output_type": "stream",
     "text": [
      "HelloX, World! Function from seminarLib.py\n"
     ]
    }
   ],
   "source": [
    "seminarLib.hellox()"
   ]
  },
  {
   "cell_type": "code",
   "execution_count": 17,
   "metadata": {},
   "outputs": [],
   "source": [
    "from seminarLib import hellox"
   ]
  },
  {
   "cell_type": "code",
   "execution_count": 18,
   "metadata": {},
   "outputs": [
    {
     "name": "stdout",
     "output_type": "stream",
     "text": [
      "HelloX, World! Function from seminarLib.py\n"
     ]
    }
   ],
   "source": [
    "hellox()"
   ]
  },
  {
   "cell_type": "markdown",
   "metadata": {},
   "source": [
    "### Classes (basics)"
   ]
  },
  {
   "cell_type": "markdown",
   "metadata": {},
   "source": [
    "A class is a blueprint for creating objects (a specific instance of the class). Classes allow you to bundle data (`attributes`) and functions (`methods`) together into a single entity. \n",
    "This is a core part of Object-Oriented Programming (OOP), which allows you to model real-world entities using objects in your code.\n",
    "\n",
    "\n",
    "A class defines a structure that describes how its objects (or instances) will behave and what data they will contain. \n",
    "When you create an object from a class, it’s called an instance of that class.\n",
    "\n",
    "Think of a class as a template, and an object as something built from that template.\n",
    "\n",
    "Key Concepts in Classes\n",
    "\n",
    "- Class: The blueprint or template for creating objects.\n",
    "- Object: An instance of a class.\n",
    "- Attributes: Variables that store data inside an object.\n",
    "- Methods: Functions that define the behavior of an object. They can interact with the object’s attributes.\n",
    "\n",
    "Defining a Class in Python\n",
    "Here’s a simple class definition:"
   ]
  },
  {
   "cell_type": "code",
   "execution_count": 19,
   "metadata": {},
   "outputs": [],
   "source": [
    "class Dog:\n",
    "    # This is the constructor method, called when a new object is created\n",
    "    def __init__(self, name, breed):\n",
    "        # The attributes of the class, initialized in the constructor\n",
    "        self.name = name\n",
    "        self.breed = breed\n",
    "\n",
    "    # This is a method that belongs to the class\n",
    "    def bark(self):\n",
    "        return f\"{self.name} says Woof!\""
   ]
  },
  {
   "cell_type": "markdown",
   "metadata": {},
   "source": [
    "What does it mean:\n",
    "\n",
    "1. `class Dog:`: This defines a class named Dog.\n",
    "2. `__init__(self, ...)`: This is a special method called the constructor. It runs when a new object is created. The __init__ method initializes the object with attributes (name and breed in this case).\n",
    "    - `self` refers to the instance of the class (the object). It is always the first parameter of methods in a class and allows access to attributes and methods of the object.\n",
    "3. Attributes: Inside the `__init__` method, `self.name` and `self.breed` are attributes that hold information about the object. Each Dog object will have its own name and breed.\n",
    "4. Methods: The class contains a method called `bark`, which returns a string. Methods are functions defined within a class and can perform actions using the object’s data."
   ]
  },
  {
   "cell_type": "code",
   "execution_count": 20,
   "metadata": {},
   "outputs": [],
   "source": [
    "# Creating objects (instances) of the class\n",
    "my_dog = Dog(\"Buddy\", \"Golden Retriever\")\n",
    "your_dog = Dog(\"Max\", \"Bulldog\")"
   ]
  },
  {
   "cell_type": "code",
   "execution_count": 21,
   "metadata": {},
   "outputs": [
    {
     "name": "stdout",
     "output_type": "stream",
     "text": [
      "Buddy\n",
      "Bulldog\n"
     ]
    }
   ],
   "source": [
    "# Accessing the attributes\n",
    "print(my_dog.name)  # Output: Buddy\n",
    "print(your_dog.breed)  # Output: Bulldog"
   ]
  },
  {
   "cell_type": "code",
   "execution_count": 22,
   "metadata": {},
   "outputs": [
    {
     "name": "stdout",
     "output_type": "stream",
     "text": [
      "Buddy says Woof!\n",
      "Max says Woof!\n"
     ]
    }
   ],
   "source": [
    "# Calling methods\n",
    "print(my_dog.bark())  # Output: Buddy says Woof!\n",
    "print(your_dog.bark())  # Output: Max says Woof!"
   ]
  },
  {
   "cell_type": "markdown",
   "metadata": {},
   "source": [
    "Important Concepts in Python Classes:\n",
    "\n",
    "Attributes:\n",
    " - Attributes are variables that belong to a class or instance. There are two types of attributes:\n",
    "    - Instance attributes: Specific to the object (e.g., self.name in the example above).\n",
    "    - Class attributes: Shared across all instances of the class."
   ]
  },
  {
   "cell_type": "code",
   "execution_count": 23,
   "metadata": {},
   "outputs": [],
   "source": [
    "# Example of a class attribute:\n",
    "class Dog:\n",
    "    species = \"Canis familiaris\"  # Class attribute, shared by all dogs\n",
    "\n",
    "    def __init__(self, name, breed):\n",
    "        self.name = name  # Instance attribute\n",
    "        self.breed = breed"
   ]
  },
  {
   "cell_type": "code",
   "execution_count": 24,
   "metadata": {},
   "outputs": [
    {
     "name": "stdout",
     "output_type": "stream",
     "text": [
      "Canis familiaris\n",
      "Canis familiaris\n"
     ]
    }
   ],
   "source": [
    "# All objects of Dog will have the same species, but each one can have different name and breed.\n",
    "my_dog = Dog(\"Buddy\", \"Golden Retriever\")\n",
    "your_dog = Dog(\"Max\", \"Bulldog\")\n",
    "\n",
    "print(my_dog.species)  # Output: Canis familiaris\n",
    "print(your_dog.species)  # Output: Canis familiaris"
   ]
  },
  {
   "cell_type": "markdown",
   "metadata": {},
   "source": [
    "Methods:\n",
    " - Methods are functions that are defined inside a class and operate on instances of the class. The first argument of every method is self, which refers to the instance.\n",
    " - Methods can interact with the instance’s attributes or do other things:"
   ]
  },
  {
   "cell_type": "code",
   "execution_count": 25,
   "metadata": {},
   "outputs": [
    {
     "name": "stdout",
     "output_type": "stream",
     "text": [
      "Buddy is barking!\n",
      "35\n"
     ]
    }
   ],
   "source": [
    "class Dog:\n",
    "    def __init__(self, name, age):\n",
    "        self.name = name\n",
    "        self.age = age\n",
    "\n",
    "    def bark(self):\n",
    "        print(f\"{self.name} is barking!\")\n",
    "\n",
    "    def get_age_in_dog_years(self):\n",
    "        return self.age * 7\n",
    "\n",
    "my_dog = Dog(\"Buddy\", 5)\n",
    "my_dog.bark()  # Output: Buddy is barking!\n",
    "\n",
    "print(my_dog.get_age_in_dog_years())  # Output: 35"
   ]
  },
  {
   "cell_type": "markdown",
   "metadata": {},
   "source": [
    "self:\n",
    "- The keyword self represents the instance of the class. It is used to access variables and methods associated with the instance.\n",
    "- When you call my_dog.bark(), Python automatically passes my_dog as the first argument (self) to the bark()method.\n",
    "\n"
   ]
  },
  {
   "cell_type": "code",
   "execution_count": 26,
   "metadata": {},
   "outputs": [
    {
     "name": "stdout",
     "output_type": "stream",
     "text": [
      "Alex is barking!\n"
     ]
    }
   ],
   "source": [
    "Dog(\"Alex\", 3).bark()"
   ]
  },
  {
   "cell_type": "code",
   "execution_count": null,
   "metadata": {},
   "outputs": [],
   "source": []
  },
  {
   "cell_type": "markdown",
   "metadata": {},
   "source": [
    "## Exercise 1 (sorting)"
   ]
  },
  {
   "cell_type": "markdown",
   "metadata": {},
   "source": [
    "In this example, sort the array of variables."
   ]
  },
  {
   "cell_type": "code",
   "execution_count": 27,
   "metadata": {},
   "outputs": [],
   "source": [
    "# [46, 44, 97, 18, 12, 46, 45, 19, 29, 25, 23, 80, 5, 89, 64]"
   ]
  },
  {
   "cell_type": "code",
   "execution_count": 28,
   "metadata": {},
   "outputs": [],
   "source": [
    "x = [46, 44, 97, 18, 12, 46, 45, 19, 29, 25, 23, 80, 5, 89, 64]"
   ]
  },
  {
   "cell_type": "code",
   "execution_count": 29,
   "metadata": {},
   "outputs": [
    {
     "data": {
      "text/plain": [
       "[5, 12, 18, 19, 23, 25, 29, 44, 45, 46, 46, 64, 80, 89, 97]"
      ]
     },
     "execution_count": 29,
     "metadata": {},
     "output_type": "execute_result"
    }
   ],
   "source": [
    "sorted(x)"
   ]
  },
  {
   "cell_type": "code",
   "execution_count": 30,
   "metadata": {},
   "outputs": [],
   "source": [
    "x.sort()"
   ]
  },
  {
   "cell_type": "code",
   "execution_count": 31,
   "metadata": {},
   "outputs": [
    {
     "data": {
      "text/plain": [
       "[5, 12, 18, 19, 23, 25, 29, 44, 45, 46, 46, 64, 80, 89, 97]"
      ]
     },
     "execution_count": 31,
     "metadata": {},
     "output_type": "execute_result"
    }
   ],
   "source": [
    "x"
   ]
  },
  {
   "cell_type": "code",
   "execution_count": 32,
   "metadata": {},
   "outputs": [],
   "source": [
    "y = list(\"variables\")"
   ]
  },
  {
   "cell_type": "code",
   "execution_count": 33,
   "metadata": {},
   "outputs": [
    {
     "data": {
      "text/plain": [
       "['a', 'a', 'b', 'e', 'i', 'l', 'r', 's', 'v']"
      ]
     },
     "execution_count": 33,
     "metadata": {},
     "output_type": "execute_result"
    }
   ],
   "source": [
    "sorted(y)"
   ]
  },
  {
   "cell_type": "code",
   "execution_count": 34,
   "metadata": {},
   "outputs": [
    {
     "data": {
      "text/plain": [
       "['v', 'a', 'r', 'i', 'a', 'b', 'l', 'e', 's']"
      ]
     },
     "execution_count": 34,
     "metadata": {},
     "output_type": "execute_result"
    }
   ],
   "source": [
    "y"
   ]
  },
  {
   "cell_type": "code",
   "execution_count": 35,
   "metadata": {},
   "outputs": [],
   "source": [
    "import random"
   ]
  },
  {
   "cell_type": "code",
   "execution_count": 36,
   "metadata": {},
   "outputs": [
    {
     "data": {
      "text/plain": [
       "[85, 42, 61, 38, 50, 87, 42, 35, 80, 3, 29, 56, 43, 10, 3]"
      ]
     },
     "execution_count": 36,
     "metadata": {},
     "output_type": "execute_result"
    }
   ],
   "source": [
    "x = [random.randint(1, 100) for _ in range(15)]\n",
    "x"
   ]
  },
  {
   "cell_type": "code",
   "execution_count": null,
   "metadata": {},
   "outputs": [],
   "source": []
  },
  {
   "cell_type": "markdown",
   "metadata": {},
   "source": [
    "## Exercise 2 (loops)"
   ]
  },
  {
   "cell_type": "markdown",
   "metadata": {},
   "source": [
    "Write a loop which will add `\"_adj\"` to the each element of the list:\n",
    "`[\"close\", \"open\", \"high\", \"high\"]`"
   ]
  },
  {
   "cell_type": "code",
   "execution_count": 37,
   "metadata": {},
   "outputs": [],
   "source": [
    "my_list = [\"close\", \"open\", \"high\", \"high\"]"
   ]
  },
  {
   "cell_type": "code",
   "execution_count": 38,
   "metadata": {},
   "outputs": [
    {
     "name": "stdout",
     "output_type": "stream",
     "text": [
      "['close_adj', 'open_adj', 'high_adj', 'high_adj']\n"
     ]
    }
   ],
   "source": [
    "for i in range(len(my_list)):\n",
    "    my_list[i] += \"_adj\"\n",
    "print(my_list)    "
   ]
  },
  {
   "cell_type": "markdown",
   "metadata": {},
   "source": [
    "Do the same but write all of the code in one line (list comprehension)."
   ]
  },
  {
   "cell_type": "code",
   "execution_count": 39,
   "metadata": {},
   "outputs": [],
   "source": [
    "my_list = [\"close\", \"open\", \"high\", \"high\"]"
   ]
  },
  {
   "cell_type": "code",
   "execution_count": 40,
   "metadata": {},
   "outputs": [
    {
     "data": {
      "text/plain": [
       "['close_adj', 'open_adj', 'high_adj', 'high_adj']"
      ]
     },
     "execution_count": 40,
     "metadata": {},
     "output_type": "execute_result"
    }
   ],
   "source": [
    "[i+\"_adj\" for i in my_list]"
   ]
  },
  {
   "cell_type": "code",
   "execution_count": null,
   "metadata": {},
   "outputs": [],
   "source": []
  },
  {
   "cell_type": "markdown",
   "metadata": {},
   "source": [
    "### Exercise 3\n",
    "\n",
    "Write a function which will sum up all values in the list"
   ]
  },
  {
   "cell_type": "markdown",
   "metadata": {},
   "source": [
    "#### a. For the case when input is list of integers."
   ]
  },
  {
   "cell_type": "code",
   "execution_count": 41,
   "metadata": {},
   "outputs": [],
   "source": [
    "my_list_int = [0, 1, 1, 2, 3, 5, 8, 13]"
   ]
  },
  {
   "cell_type": "code",
   "execution_count": 42,
   "metadata": {},
   "outputs": [],
   "source": [
    "def sum_up(my_list):\n",
    "    res_of_sum = 0\n",
    "    for num in my_list:\n",
    "        res_of_sum += num\n",
    "    return res_of_sum"
   ]
  },
  {
   "cell_type": "code",
   "execution_count": 43,
   "metadata": {},
   "outputs": [
    {
     "data": {
      "text/plain": [
       "33"
      ]
     },
     "execution_count": 43,
     "metadata": {},
     "output_type": "execute_result"
    }
   ],
   "source": [
    "sum_up(my_list_int)"
   ]
  },
  {
   "cell_type": "markdown",
   "metadata": {},
   "source": [
    "#### b. What will be if the input is list of strings?"
   ]
  },
  {
   "cell_type": "code",
   "execution_count": 44,
   "metadata": {},
   "outputs": [],
   "source": [
    "my_list_str = ['0', 'a', '1', 'bb', 'ccc', '5', '8', '13']"
   ]
  },
  {
   "cell_type": "code",
   "execution_count": 45,
   "metadata": {},
   "outputs": [
    {
     "ename": "TypeError",
     "evalue": "unsupported operand type(s) for +=: 'int' and 'str'",
     "output_type": "error",
     "traceback": [
      "\u001b[0;31m---------------------------------------------------------------------------\u001b[0m",
      "\u001b[0;31mTypeError\u001b[0m                                 Traceback (most recent call last)",
      "Cell \u001b[0;32mIn[45], line 1\u001b[0m\n\u001b[0;32m----> 1\u001b[0m \u001b[43msum_up\u001b[49m\u001b[43m(\u001b[49m\u001b[43mmy_list_str\u001b[49m\u001b[43m)\u001b[49m\n",
      "Cell \u001b[0;32mIn[42], line 4\u001b[0m, in \u001b[0;36msum_up\u001b[0;34m(my_list)\u001b[0m\n\u001b[1;32m      2\u001b[0m res_of_sum \u001b[38;5;241m=\u001b[39m \u001b[38;5;241m0\u001b[39m\n\u001b[1;32m      3\u001b[0m \u001b[38;5;28;01mfor\u001b[39;00m num \u001b[38;5;129;01min\u001b[39;00m my_list:\n\u001b[0;32m----> 4\u001b[0m     \u001b[43mres_of_sum\u001b[49m\u001b[43m \u001b[49m\u001b[38;5;241;43m+\u001b[39;49m\u001b[38;5;241;43m=\u001b[39;49m\u001b[43m \u001b[49m\u001b[43mnum\u001b[49m\n\u001b[1;32m      5\u001b[0m \u001b[38;5;28;01mreturn\u001b[39;00m res_of_sum\n",
      "\u001b[0;31mTypeError\u001b[0m: unsupported operand type(s) for +=: 'int' and 'str'"
     ]
    }
   ],
   "source": [
    "sum_up(my_list_str)"
   ]
  },
  {
   "cell_type": "code",
   "execution_count": 46,
   "metadata": {},
   "outputs": [],
   "source": [
    "# change the function in order to avoid error and get the answer: '0a1bbccc5813'"
   ]
  },
  {
   "cell_type": "code",
   "execution_count": 47,
   "metadata": {},
   "outputs": [],
   "source": [
    "def sum_up_str(my_list):\n",
    "    res_of_sum = \"\"\n",
    "    for num in my_list:\n",
    "        res_of_sum += num\n",
    "    return res_of_sum"
   ]
  },
  {
   "cell_type": "code",
   "execution_count": 48,
   "metadata": {},
   "outputs": [
    {
     "data": {
      "text/plain": [
       "'0a1bbccc5813'"
      ]
     },
     "execution_count": 48,
     "metadata": {},
     "output_type": "execute_result"
    }
   ],
   "source": [
    "sum_up_str(my_list_str)"
   ]
  },
  {
   "cell_type": "markdown",
   "metadata": {},
   "source": [
    "#### c. Rewrite the function sum_up in the way, that we will get a message 'can not sum it up' if the summation can't be performed"
   ]
  },
  {
   "cell_type": "code",
   "execution_count": 49,
   "metadata": {},
   "outputs": [],
   "source": [
    "mixed_list = [1, 4, 'd']"
   ]
  },
  {
   "cell_type": "code",
   "execution_count": 50,
   "metadata": {},
   "outputs": [],
   "source": [
    "def sum_up_except(my_list):\n",
    "    res_of_sum = 0\n",
    "    for num in my_list:\n",
    "        try:\n",
    "            res_of_sum += num\n",
    "        except Exception:\n",
    "            print('Can not sum it up')\n",
    "    return res_of_sum"
   ]
  },
  {
   "cell_type": "code",
   "execution_count": 51,
   "metadata": {},
   "outputs": [
    {
     "name": "stdout",
     "output_type": "stream",
     "text": [
      "Can not sum it up\n"
     ]
    },
    {
     "data": {
      "text/plain": [
       "5"
      ]
     },
     "execution_count": 51,
     "metadata": {},
     "output_type": "execute_result"
    }
   ],
   "source": [
    "sum_up_except(mixed_list)"
   ]
  },
  {
   "cell_type": "code",
   "execution_count": 52,
   "metadata": {},
   "outputs": [],
   "source": [
    "# Return nothing if the summation can not be performed"
   ]
  },
  {
   "cell_type": "code",
   "execution_count": 53,
   "metadata": {},
   "outputs": [],
   "source": [
    "def sum_up_except(my_list):\n",
    "    res_of_sum = 0\n",
    "    for num in my_list:\n",
    "        try:\n",
    "            res_of_sum += num\n",
    "        except Exception:\n",
    "            print('can not sum it up')\n",
    "            return\n",
    "    return res_of_sum"
   ]
  },
  {
   "cell_type": "code",
   "execution_count": 54,
   "metadata": {},
   "outputs": [
    {
     "name": "stdout",
     "output_type": "stream",
     "text": [
      "can not sum it up\n"
     ]
    }
   ],
   "source": [
    "sum_up_except(mixed_list)"
   ]
  },
  {
   "cell_type": "markdown",
   "metadata": {},
   "source": [
    "#### d. Why do we need to write the exceptions?"
   ]
  },
  {
   "cell_type": "code",
   "execution_count": 55,
   "metadata": {},
   "outputs": [
    {
     "name": "stdout",
     "output_type": "stream",
     "text": [
      "Step 1\n",
      "can not sum it up\n",
      "Step 2: None\n",
      "Step 3\n"
     ]
    }
   ],
   "source": [
    "print('Step 1')\n",
    "print(f'Step 2: {sum_up_except([1, 4, \"d\"])}')\n",
    "print('Step 3')"
   ]
  },
  {
   "cell_type": "code",
   "execution_count": 56,
   "metadata": {},
   "outputs": [
    {
     "name": "stdout",
     "output_type": "stream",
     "text": [
      "Step 1\n"
     ]
    },
    {
     "ename": "TypeError",
     "evalue": "unsupported operand type(s) for +=: 'int' and 'str'",
     "output_type": "error",
     "traceback": [
      "\u001b[0;31m---------------------------------------------------------------------------\u001b[0m",
      "\u001b[0;31mTypeError\u001b[0m                                 Traceback (most recent call last)",
      "Cell \u001b[0;32mIn[56], line 2\u001b[0m\n\u001b[1;32m      1\u001b[0m \u001b[38;5;28mprint\u001b[39m(\u001b[38;5;124m'\u001b[39m\u001b[38;5;124mStep 1\u001b[39m\u001b[38;5;124m'\u001b[39m)\n\u001b[0;32m----> 2\u001b[0m \u001b[38;5;28mprint\u001b[39m(\u001b[38;5;124mf\u001b[39m\u001b[38;5;124m'\u001b[39m\u001b[38;5;124mStep 2: \u001b[39m\u001b[38;5;132;01m{\u001b[39;00m\u001b[43msum_up\u001b[49m\u001b[43m(\u001b[49m\u001b[43m[\u001b[49m\u001b[38;5;241;43m1\u001b[39;49m\u001b[43m,\u001b[49m\u001b[38;5;250;43m \u001b[39;49m\u001b[38;5;241;43m4\u001b[39;49m\u001b[43m,\u001b[49m\u001b[38;5;250;43m \u001b[39;49m\u001b[38;5;124;43m\"\u001b[39;49m\u001b[38;5;124;43md\u001b[39;49m\u001b[38;5;124;43m\"\u001b[39;49m\u001b[43m]\u001b[49m\u001b[43m)\u001b[49m\u001b[38;5;132;01m}\u001b[39;00m\u001b[38;5;124m'\u001b[39m)\n\u001b[1;32m      3\u001b[0m \u001b[38;5;28mprint\u001b[39m(\u001b[38;5;124m'\u001b[39m\u001b[38;5;124mStep 3\u001b[39m\u001b[38;5;124m'\u001b[39m)\n",
      "Cell \u001b[0;32mIn[42], line 4\u001b[0m, in \u001b[0;36msum_up\u001b[0;34m(my_list)\u001b[0m\n\u001b[1;32m      2\u001b[0m res_of_sum \u001b[38;5;241m=\u001b[39m \u001b[38;5;241m0\u001b[39m\n\u001b[1;32m      3\u001b[0m \u001b[38;5;28;01mfor\u001b[39;00m num \u001b[38;5;129;01min\u001b[39;00m my_list:\n\u001b[0;32m----> 4\u001b[0m     \u001b[43mres_of_sum\u001b[49m\u001b[43m \u001b[49m\u001b[38;5;241;43m+\u001b[39;49m\u001b[38;5;241;43m=\u001b[39;49m\u001b[43m \u001b[49m\u001b[43mnum\u001b[49m\n\u001b[1;32m      5\u001b[0m \u001b[38;5;28;01mreturn\u001b[39;00m res_of_sum\n",
      "\u001b[0;31mTypeError\u001b[0m: unsupported operand type(s) for +=: 'int' and 'str'"
     ]
    }
   ],
   "source": [
    "print('Step 1')\n",
    "print(f'Step 2: {sum_up([1, 4, \"d\"])}')\n",
    "print('Step 3')"
   ]
  },
  {
   "cell_type": "markdown",
   "metadata": {},
   "source": []
  },
  {
   "cell_type": "markdown",
   "metadata": {},
   "source": [
    "## Exercise (dictionaries)"
   ]
  },
  {
   "cell_type": "markdown",
   "metadata": {},
   "source": [
    "In this task we will work with the dictionary:"
   ]
  },
  {
   "cell_type": "code",
   "execution_count": 57,
   "metadata": {},
   "outputs": [],
   "source": [
    "dic_food = {'apple':5, 'orange':4, 'onion':9}"
   ]
  },
  {
   "cell_type": "markdown",
   "metadata": {},
   "source": [
    "#### a. Calculate how many products in total do we have. How many fruits?"
   ]
  },
  {
   "cell_type": "code",
   "execution_count": 58,
   "metadata": {},
   "outputs": [
    {
     "data": {
      "text/plain": [
       "18"
      ]
     },
     "execution_count": 58,
     "metadata": {},
     "output_type": "execute_result"
    }
   ],
   "source": [
    "sum(dic_food.values())"
   ]
  },
  {
   "cell_type": "code",
   "execution_count": 59,
   "metadata": {},
   "outputs": [
    {
     "data": {
      "text/plain": [
       "18"
      ]
     },
     "execution_count": 59,
     "metadata": {},
     "output_type": "execute_result"
    }
   ],
   "source": [
    "sum([v for v in dic_food.values()])"
   ]
  },
  {
   "cell_type": "code",
   "execution_count": 60,
   "metadata": {},
   "outputs": [
    {
     "data": {
      "text/plain": [
       "9"
      ]
     },
     "execution_count": 60,
     "metadata": {},
     "output_type": "execute_result"
    }
   ],
   "source": [
    "list_fruits = ['apple', 'orange']\n",
    "sum([v for k, v in dic_food.items() if k in list_fruits])"
   ]
  },
  {
   "cell_type": "markdown",
   "metadata": {},
   "source": [
    "#### b. Add one more apple and change the numbers of onions to 1"
   ]
  },
  {
   "cell_type": "code",
   "execution_count": 61,
   "metadata": {},
   "outputs": [
    {
     "data": {
      "text/plain": [
       "{'apple': 5, 'orange': 4, 'onion': 9}"
      ]
     },
     "execution_count": 61,
     "metadata": {},
     "output_type": "execute_result"
    }
   ],
   "source": [
    "dic_food"
   ]
  },
  {
   "cell_type": "code",
   "execution_count": 62,
   "metadata": {},
   "outputs": [],
   "source": [
    "dic_food['apple'] += 1"
   ]
  },
  {
   "cell_type": "code",
   "execution_count": 63,
   "metadata": {},
   "outputs": [
    {
     "data": {
      "text/plain": [
       "{'apple': 6, 'orange': 4, 'onion': 9}"
      ]
     },
     "execution_count": 63,
     "metadata": {},
     "output_type": "execute_result"
    }
   ],
   "source": [
    "dic_food"
   ]
  },
  {
   "cell_type": "code",
   "execution_count": 64,
   "metadata": {},
   "outputs": [],
   "source": [
    "dic_food['onion'] = 1"
   ]
  },
  {
   "cell_type": "code",
   "execution_count": 65,
   "metadata": {},
   "outputs": [
    {
     "data": {
      "text/plain": [
       "{'apple': 6, 'orange': 4, 'onion': 1}"
      ]
     },
     "execution_count": 65,
     "metadata": {},
     "output_type": "execute_result"
    }
   ],
   "source": [
    "dic_food"
   ]
  },
  {
   "cell_type": "markdown",
   "metadata": {},
   "source": [
    "#### c. Make the same dictionary from the lists: "
   ]
  },
  {
   "cell_type": "code",
   "execution_count": 66,
   "metadata": {},
   "outputs": [],
   "source": [
    "prod_name = ['apple', 'orange', 'onion']\n",
    "prod_amount = [1,5,5]"
   ]
  },
  {
   "cell_type": "code",
   "execution_count": 67,
   "metadata": {},
   "outputs": [
    {
     "data": {
      "text/plain": [
       "{'apple': 1, 'orange': 5, 'onion': 5}"
      ]
     },
     "execution_count": 67,
     "metadata": {},
     "output_type": "execute_result"
    }
   ],
   "source": [
    "new_dict = {name:amount for name, amount in zip(prod_name, prod_amount)}\n",
    "new_dict"
   ]
  },
  {
   "cell_type": "markdown",
   "metadata": {},
   "source": [
    "#### d. What will happened if we have dublicates in the list of keys?"
   ]
  },
  {
   "cell_type": "code",
   "execution_count": 68,
   "metadata": {},
   "outputs": [],
   "source": [
    "prod_name = ['apple', 'orange', 'onion', 'apple']\n",
    "prod_amount = [1,5,3,2]"
   ]
  },
  {
   "cell_type": "code",
   "execution_count": 69,
   "metadata": {},
   "outputs": [
    {
     "data": {
      "text/plain": [
       "{'apple': 2, 'orange': 5, 'onion': 3}"
      ]
     },
     "execution_count": 69,
     "metadata": {},
     "output_type": "execute_result"
    }
   ],
   "source": [
    "{name:amount for name,amount in zip(prod_name, prod_amount)}"
   ]
  },
  {
   "cell_type": "code",
   "execution_count": null,
   "metadata": {},
   "outputs": [],
   "source": []
  },
  {
   "cell_type": "markdown",
   "metadata": {},
   "source": [
    "## Exercise (func absolute value)"
   ]
  },
  {
   "cell_type": "markdown",
   "metadata": {},
   "source": [
    "1) In this exercise, define a function that returns an absolute value of number.\n",
    "   1) test on a number\n",
    "   2) test on an array\n",
    "2) Modify the function it returns absolute value and states whether the number was positive or negative.\n",
    "3) Make the return object of nice type."
   ]
  },
  {
   "cell_type": "code",
   "execution_count": 70,
   "metadata": {},
   "outputs": [],
   "source": [
    "def f_abs(x):\n",
    "    return x if x >= 0 else -x"
   ]
  },
  {
   "cell_type": "code",
   "execution_count": 71,
   "metadata": {},
   "outputs": [
    {
     "data": {
      "text/plain": [
       "[3, 4]"
      ]
     },
     "execution_count": 71,
     "metadata": {},
     "output_type": "execute_result"
    }
   ],
   "source": [
    "[f_abs(x) for x in [-3, 4]]"
   ]
  },
  {
   "cell_type": "code",
   "execution_count": 72,
   "metadata": {},
   "outputs": [],
   "source": [
    "def f_abs2(x):\n",
    "    if x >= 0:\n",
    "        return x, 'positive'\n",
    "    else:\n",
    "        return -x, 'negative'"
   ]
  },
  {
   "cell_type": "code",
   "execution_count": 73,
   "metadata": {},
   "outputs": [
    {
     "data": {
      "text/plain": [
       "(3, 'negative')"
      ]
     },
     "execution_count": 73,
     "metadata": {},
     "output_type": "execute_result"
    }
   ],
   "source": [
    "f_abs2(-3)"
   ]
  },
  {
   "cell_type": "code",
   "execution_count": 74,
   "metadata": {},
   "outputs": [],
   "source": [
    "def f_abs3(x):\n",
    "    if x >= 0:\n",
    "        return { 'abs':x, 'sign':'positive' }\n",
    "    else:\n",
    "        return { 'abs':-x, 'sign':'negative' }"
   ]
  },
  {
   "cell_type": "code",
   "execution_count": 75,
   "metadata": {},
   "outputs": [],
   "source": [
    "x_abs = [f_abs3(x) for x in [random.randint(-100, 100) for _ in range(50)]]"
   ]
  },
  {
   "cell_type": "code",
   "execution_count": 76,
   "metadata": {},
   "outputs": [
    {
     "data": {
      "text/plain": [
       "[{'abs': 44, 'sign': 'positive'},\n",
       " {'abs': 50, 'sign': 'negative'},\n",
       " {'abs': 35, 'sign': 'negative'},\n",
       " {'abs': 69, 'sign': 'positive'},\n",
       " {'abs': 65, 'sign': 'negative'}]"
      ]
     },
     "execution_count": 76,
     "metadata": {},
     "output_type": "execute_result"
    }
   ],
   "source": [
    "x_abs[:5] # print first 5 elements"
   ]
  },
  {
   "cell_type": "markdown",
   "metadata": {},
   "source": [
    "--- Sets vs lists"
   ]
  },
  {
   "cell_type": "markdown",
   "metadata": {},
   "source": [
    "### Exercise: Unique Elements Finder\n",
    "Write a function `unique_elements(lst)` that takes a list of numbers and returns a new list with only the unique elements from the original list (i.e., removing duplicates).\n",
    "You can use a loop or list comprehension for this exercise.\n"
   ]
  },
  {
   "cell_type": "code",
   "execution_count": 77,
   "metadata": {},
   "outputs": [],
   "source": [
    "# Solution\n",
    "def unique_elements(lst):\n",
    "    seen = set()\n",
    "    unique_lst = []\n",
    "    for item in lst:\n",
    "        if item not in seen:\n",
    "            unique_lst.append(item)\n",
    "            seen.add(item)\n",
    "    return unique_lst\n",
    "\n",
    "# Example:\n",
    "# print(unique_elements([1, 2, 2, 3, 4, 4, 5]))  # Output: [1, 2, 3, 4, 5]"
   ]
  },
  {
   "cell_type": "code",
   "execution_count": 78,
   "metadata": {},
   "outputs": [
    {
     "data": {
      "text/plain": [
       "['a', 'b', 'c', 'd']"
      ]
     },
     "execution_count": 78,
     "metadata": {},
     "output_type": "execute_result"
    }
   ],
   "source": [
    "unique_elements(['a', 'b', 'a', 'c', 'd', 'c'])"
   ]
  },
  {
   "cell_type": "code",
   "execution_count": 79,
   "metadata": {},
   "outputs": [],
   "source": [
    "aa = []"
   ]
  },
  {
   "cell_type": "code",
   "execution_count": 80,
   "metadata": {},
   "outputs": [],
   "source": [
    "bb = set()"
   ]
  },
  {
   "cell_type": "code",
   "execution_count": 81,
   "metadata": {},
   "outputs": [
    {
     "ename": "AttributeError",
     "evalue": "'list' object has no attribute 'add'",
     "output_type": "error",
     "traceback": [
      "\u001b[0;31m---------------------------------------------------------------------------\u001b[0m",
      "\u001b[0;31mAttributeError\u001b[0m                            Traceback (most recent call last)",
      "Cell \u001b[0;32mIn[81], line 1\u001b[0m\n\u001b[0;32m----> 1\u001b[0m \u001b[43maa\u001b[49m\u001b[38;5;241;43m.\u001b[39;49m\u001b[43madd\u001b[49m(\u001b[38;5;124m\"\u001b[39m\u001b[38;5;124mA\u001b[39m\u001b[38;5;124m\"\u001b[39m)\n",
      "\u001b[0;31mAttributeError\u001b[0m: 'list' object has no attribute 'add'"
     ]
    }
   ],
   "source": [
    "aa.add(\"A\")"
   ]
  },
  {
   "cell_type": "code",
   "execution_count": 82,
   "metadata": {},
   "outputs": [
    {
     "ename": "AttributeError",
     "evalue": "'set' object has no attribute 'append'",
     "output_type": "error",
     "traceback": [
      "\u001b[0;31m---------------------------------------------------------------------------\u001b[0m",
      "\u001b[0;31mAttributeError\u001b[0m                            Traceback (most recent call last)",
      "Cell \u001b[0;32mIn[82], line 1\u001b[0m\n\u001b[0;32m----> 1\u001b[0m \u001b[43mbb\u001b[49m\u001b[38;5;241;43m.\u001b[39;49m\u001b[43mappend\u001b[49m(\u001b[38;5;124m\"\u001b[39m\u001b[38;5;124mA\u001b[39m\u001b[38;5;124m\"\u001b[39m)\n",
      "\u001b[0;31mAttributeError\u001b[0m: 'set' object has no attribute 'append'"
     ]
    }
   ],
   "source": [
    "bb.append(\"A\")"
   ]
  },
  {
   "cell_type": "code",
   "execution_count": 83,
   "metadata": {},
   "outputs": [
    {
     "data": {
      "text/plain": [
       "{1, 2, 3, 4, 5, 'a'}"
      ]
     },
     "execution_count": 83,
     "metadata": {},
     "output_type": "execute_result"
    }
   ],
   "source": [
    "cc = [1, 2, 3, 4, 4, 5, 'a', 'a']\n",
    "set(cc)"
   ]
  },
  {
   "cell_type": "markdown",
   "metadata": {},
   "source": [
    "### Exercise: Text Analyzer\n",
    "Write a function `analyze_text` that takes a string and returns:\n",
    "1. Number of words.\n",
    "2. Number of vowels.\n",
    "3. Whether the string contains the word 'Python' (case insensitive).\n"
   ]
  },
  {
   "cell_type": "code",
   "execution_count": 84,
   "metadata": {},
   "outputs": [],
   "source": [
    "# Solution\n",
    "def analyze_text(text):\n",
    "    vowels = \"aeiouAEIOU\"\n",
    "    word_count = len(text.split())\n",
    "    vowel_count = sum(1 for char in text if char in vowels)\n",
    "    contains_python = 'python' in text.lower()\n",
    "    \n",
    "    print(f\"Words: {word_count}\")\n",
    "    print(f\"Vowels: {vowel_count}\")\n",
    "    print(f\"Contains 'Python': {contains_python}\")\n",
    "\n",
    "# Example:\n",
    "# analyze_text(\"Python is an amazing programming language!\")"
   ]
  },
  {
   "cell_type": "code",
   "execution_count": 85,
   "metadata": {},
   "outputs": [
    {
     "name": "stdout",
     "output_type": "stream",
     "text": [
      "Words: 6\n",
      "Vowels: 13\n",
      "Contains 'Python': True\n"
     ]
    }
   ],
   "source": [
    "analyze_text(\"Python is an amazing programming language!\")"
   ]
  },
  {
   "cell_type": "markdown",
   "metadata": {},
   "source": [
    "### Exercise: Prime Number Checker\n",
    "Write a function `is_prime(n)` that returns `True` if the number `n` is prime and `False` otherwise.\n",
    "\n",
    "Optional: Write a function that prints all prime numbers between 1 and 100.\n"
   ]
  },
  {
   "cell_type": "code",
   "execution_count": 86,
   "metadata": {},
   "outputs": [],
   "source": [
    "# Solution\n",
    "def is_prime(n):\n",
    "    if n < 2:\n",
    "        return False\n",
    "    for i in range(2, int(n ** 0.5) + 1):\n",
    "        if n % i == 0:\n",
    "            return False\n",
    "    return True\n",
    "\n",
    "# Example:\n",
    "# print(is_prime(29))  # True\n",
    "\n",
    "# Optional extension: Print all prime numbers between 1 and 100\n",
    "def print_primes_up_to_100():\n",
    "    for num in range(1, 101):\n",
    "        if is_prime(num):\n",
    "            print(num, end=' ')\n",
    "\n",
    "# print_primes_up_to_100()"
   ]
  },
  {
   "cell_type": "code",
   "execution_count": 87,
   "metadata": {},
   "outputs": [
    {
     "name": "stdout",
     "output_type": "stream",
     "text": [
      "2 3 5 7 11 13 17 19 23 29 31 37 41 43 47 53 59 61 67 71 73 79 83 89 97 "
     ]
    }
   ],
   "source": [
    "print_primes_up_to_100()"
   ]
  },
  {
   "cell_type": "code",
   "execution_count": null,
   "metadata": {},
   "outputs": [],
   "source": []
  },
  {
   "cell_type": "markdown",
   "metadata": {},
   "source": [
    "### Exercise : Number Guessing Game (input and loop exercise)\n",
    "\n",
    "Write a simple number guessing game where:\n",
    "1. The program picks a random number between 1 and 100 (hardcoded).\n",
    "2. Ask the user to guess the number.\n",
    "3. The program gives feedback if the guess is too high or too low.\n",
    "4. Allow the user to keep guessing until they get it right.\n",
    "5. Print how many attempts it took to guess correctly.\n"
   ]
  },
  {
   "cell_type": "code",
   "execution_count": 88,
   "metadata": {},
   "outputs": [],
   "source": [
    "# Solution\n",
    "def number_guessing_game():\n",
    "    number = 45  # Hardcoded for simplicity\n",
    "    attempts = 0\n",
    "    while True:\n",
    "        guess = int(input(\"Guess the number (between 1 and 100): \"))\n",
    "        attempts += 1\n",
    "        if guess < number:\n",
    "            print(\"Too low!\")\n",
    "        elif guess > number:\n",
    "            print(\"Too high!\")\n",
    "        else:\n",
    "            print(f\"Congratulations! You guessed the number in {attempts} attempts.\")\n",
    "            break\n",
    "\n",
    "# number_guessing_game()  # Uncomment to play"
   ]
  },
  {
   "cell_type": "code",
   "execution_count": 89,
   "metadata": {},
   "outputs": [],
   "source": [
    "# number_guessing_game()"
   ]
  },
  {
   "cell_type": "markdown",
   "metadata": {},
   "source": [
    "### Exercise: List Manipulation\n",
    "Write a function `list_operations(lst)` that returns a dictionary with:\n",
    "- 'min': the smallest number\n",
    "- 'max': the largest number\n",
    "- 'sum': the sum of numbers\n",
    "- 'average': the average of numbers (rounded to 2 decimals)\n"
   ]
  },
  {
   "cell_type": "code",
   "execution_count": 90,
   "metadata": {},
   "outputs": [],
   "source": [
    "# Solution to Exercise 4\n",
    "def list_operations(lst):\n",
    "    result = {\n",
    "        'min': min(lst),\n",
    "        'max': max(lst),\n",
    "        'sum': sum(lst),\n",
    "        'average': round(sum(lst) / len(lst), 2)\n",
    "    }\n",
    "    return result\n",
    "\n",
    "# Example:\n",
    "# print(list_operations([10, 25, 33, 47, 2, 8]))\n"
   ]
  },
  {
   "cell_type": "code",
   "execution_count": 91,
   "metadata": {},
   "outputs": [
    {
     "name": "stdout",
     "output_type": "stream",
     "text": [
      "{'min': 2, 'max': 47, 'sum': 125, 'average': 20.83}\n"
     ]
    }
   ],
   "source": [
    "print(list_operations([10, 25, 33, 47, 2, 8]))"
   ]
  },
  {
   "cell_type": "code",
   "execution_count": 92,
   "metadata": {},
   "outputs": [
    {
     "data": {
      "text/plain": [
       "list"
      ]
     },
     "execution_count": 92,
     "metadata": {},
     "output_type": "execute_result"
    }
   ],
   "source": [
    "type([])"
   ]
  },
  {
   "cell_type": "markdown",
   "metadata": {},
   "source": [
    "### Exercise: Factorial using Recursion\n",
    "Write a recursive function `factorial(n)` that returns the factorial of a number `n`.\n",
    "For example, `factorial(5)` should return `120` because `5! = 5 * 4 * 3 * 2 * 1 = 120`.\n"
   ]
  },
  {
   "cell_type": "code",
   "execution_count": 93,
   "metadata": {},
   "outputs": [],
   "source": [
    "# Solution to Exercise 1\n",
    "def factorial(n):\n",
    "    if n == 0 or n == 1:\n",
    "        return 1\n",
    "    else:\n",
    "        return n * factorial(n - 1)\n",
    "\n",
    "# Example:\n",
    "# print(factorial(5))  # Output: 120\n"
   ]
  },
  {
   "cell_type": "code",
   "execution_count": 94,
   "metadata": {},
   "outputs": [
    {
     "name": "stdout",
     "output_type": "stream",
     "text": [
      "6\n"
     ]
    }
   ],
   "source": [
    "print(factorial(3))"
   ]
  },
  {
   "cell_type": "markdown",
   "metadata": {},
   "source": [
    "### Exercise: Palindrome Checker for Strings\n",
    "Write a function `is_palindrome(s)` that checks if a string `s` is a palindrome. A palindrome reads the same forwards and backwards (ignoring case and spaces).\n",
    "For example, `is_palindrome('A man a plan a canal Panama')` should return `True`.\n"
   ]
  },
  {
   "cell_type": "code",
   "execution_count": 95,
   "metadata": {},
   "outputs": [],
   "source": [
    "# Solution to Exercise 2\n",
    "def is_palindrome(s):\n",
    "    # Remove spaces and convert to lowercase\n",
    "    s_cleaned = ''.join(c.lower() for c in s if c.isalnum())\n",
    "    return s_cleaned == s_cleaned[::-1]\n",
    "\n",
    "# Example:\n",
    "# print(is_palindrome('A man a plan a canal Panama'))  # Output: True\n"
   ]
  },
  {
   "cell_type": "code",
   "execution_count": 96,
   "metadata": {},
   "outputs": [
    {
     "data": {
      "text/plain": [
       "False"
      ]
     },
     "execution_count": 96,
     "metadata": {},
     "output_type": "execute_result"
    }
   ],
   "source": [
    "is_palindrome(\"ahah\")"
   ]
  },
  {
   "cell_type": "code",
   "execution_count": null,
   "metadata": {},
   "outputs": [],
   "source": []
  }
 ],
 "metadata": {
  "kernelspec": {
   "display_name": "Python 3",
   "language": "python",
   "name": "python3"
  },
  "language_info": {
   "codemirror_mode": {
    "name": "ipython",
    "version": 3
   },
   "file_extension": ".py",
   "mimetype": "text/x-python",
   "name": "python",
   "nbconvert_exporter": "python",
   "pygments_lexer": "ipython3",
   "version": "3.11.9"
  }
 },
 "nbformat": 4,
 "nbformat_minor": 2
}
